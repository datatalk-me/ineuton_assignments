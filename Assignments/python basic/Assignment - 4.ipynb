{
 "cells": [
  {
   "cell_type": "markdown",
   "id": "f6a87d27",
   "metadata": {},
   "source": [
    "## Assignment - 4 solutions"
   ]
  },
  {
   "cell_type": "markdown",
   "id": "ab99c029",
   "metadata": {},
   "source": [
    "### 1. What exactly is [ ]?"
   ]
  },
  {
   "cell_type": "markdown",
   "id": "c448a85b",
   "metadata": {},
   "source": [
    "**Ans:** This is the representation of a list which is empty and we can represent list in two ways  **`[]`** and **`list()`**."
   ]
  },
  {
   "cell_type": "markdown",
   "id": "cfcc3c06",
   "metadata": {},
   "source": [
    "### 2. In a list of values stored in a variable called spam, how would you assign the value 'hello' as the third value? (Assume [2, 4, 6, 8, 10] are in spam.)"
   ]
  },
  {
   "cell_type": "markdown",
   "id": "0c43ce49",
   "metadata": {},
   "source": [
    "**Ans:** we can Assign `spam[2] = 'hello'`"
   ]
  },
  {
   "cell_type": "code",
   "execution_count": 1,
   "id": "fdbfb72e",
   "metadata": {},
   "outputs": [
    {
     "name": "stdout",
     "output_type": "stream",
     "text": [
      "[2, 4, 6, 8, 10]\n",
      "[2, 4, 'hello', 8, 10]\n"
     ]
    }
   ],
   "source": [
    "# example\n",
    "spam = [2,4,6,8,10]\n",
    "print(spam)\n",
    "spam[2] = 'hello'\n",
    "print(spam)"
   ]
  },
  {
   "cell_type": "markdown",
   "id": "89a4a393",
   "metadata": {},
   "source": [
    "##  Let's pretend the spam includes the list ['a', 'b', 'c', 'd'] for the next three queries."
   ]
  },
  {
   "cell_type": "markdown",
   "id": "a3afbf2b",
   "metadata": {},
   "source": [
    "### 3. What is the value of spam[int(int('3' * 2) / 11)]?"
   ]
  },
  {
   "cell_type": "markdown",
   "id": "39b1c33c",
   "metadata": {},
   "source": [
    "**Ans:** Let's findout together"
   ]
  },
  {
   "cell_type": "code",
   "execution_count": 2,
   "id": "012ba8d7",
   "metadata": {},
   "outputs": [
    {
     "data": {
      "text/plain": [
       "'d'"
      ]
     },
     "execution_count": 2,
     "metadata": {},
     "output_type": "execute_result"
    }
   ],
   "source": [
    "spam = ['a','b','c','d']\n",
    "spam[int(int('3'*2)/11)]"
   ]
  },
  {
   "cell_type": "code",
   "execution_count": 5,
   "id": "c4ebc2b3",
   "metadata": {},
   "outputs": [
    {
     "data": {
      "text/plain": [
       "'d'"
      ]
     },
     "execution_count": 5,
     "metadata": {},
     "output_type": "execute_result"
    }
   ],
   "source": [
    "# lets decode one by one \n",
    "\n",
    "int('3'*2)/11  #which gives us 3.0\n",
    "int(3.0)       # which gives us 3\n",
    "spam[3]        # spam[3] gives output as 'd'"
   ]
  },
  {
   "cell_type": "markdown",
   "id": "e2a06323",
   "metadata": {},
   "source": [
    "### 4. What is the value of spam[-1]?"
   ]
  },
  {
   "cell_type": "code",
   "execution_count": 6,
   "id": "d435c005",
   "metadata": {},
   "outputs": [
    {
     "data": {
      "text/plain": [
       "'d'"
      ]
     },
     "execution_count": 6,
     "metadata": {},
     "output_type": "execute_result"
    }
   ],
   "source": [
    "spam[-1]  # it returns the last element in the list."
   ]
  },
  {
   "cell_type": "markdown",
   "id": "e427e8fc",
   "metadata": {},
   "source": [
    "### 5. What is the value of spam[:2]?"
   ]
  },
  {
   "cell_type": "code",
   "execution_count": 8,
   "id": "7736886f",
   "metadata": {},
   "outputs": [
    {
     "data": {
      "text/plain": [
       "['a', 'b']"
      ]
     },
     "execution_count": 8,
     "metadata": {},
     "output_type": "execute_result"
    }
   ],
   "source": [
    "spam[:2]  # this returns values from a list starting at 0 index to 2 index excluding 2 index"
   ]
  },
  {
   "cell_type": "markdown",
   "id": "37042a92",
   "metadata": {},
   "source": [
    "## Let's pretend bacon has the list [3.14, 'cat,' 11, 'cat,' True] for the next three questions."
   ]
  },
  {
   "cell_type": "markdown",
   "id": "c1ce6779",
   "metadata": {},
   "source": [
    "### 6.What is the value of bacon.index('cat')?"
   ]
  },
  {
   "cell_type": "markdown",
   "id": "b4ea1e1b",
   "metadata": {},
   "source": [
    "**Ans**: The value of `bacon.index('cat')` is 1."
   ]
  },
  {
   "cell_type": "code",
   "execution_count": 11,
   "id": "5d811958",
   "metadata": {},
   "outputs": [
    {
     "data": {
      "text/plain": [
       "1"
      ]
     },
     "execution_count": 11,
     "metadata": {},
     "output_type": "execute_result"
    }
   ],
   "source": [
    "# let's find out the index of cat\n",
    "bacon = [3.14, 'cat', 11, 'cat', True]\n",
    "bacon.index('cat')    # index function returns the value of index which occur first."
   ]
  },
  {
   "cell_type": "markdown",
   "id": "6b722262",
   "metadata": {},
   "source": [
    "### 7. How does bacon.append(99) change the look of the list value in bacon?"
   ]
  },
  {
   "cell_type": "markdown",
   "id": "85a3c774",
   "metadata": {},
   "source": [
    "**Ans:** `append()` function is used to a add the value at the end of a list."
   ]
  },
  {
   "cell_type": "code",
   "execution_count": 12,
   "id": "26fa5977",
   "metadata": {},
   "outputs": [
    {
     "name": "stdout",
     "output_type": "stream",
     "text": [
      "[3.14, 'cat', 11, 'cat', True]\n",
      "[3.14, 'cat', 11, 'cat', True, 99]\n"
     ]
    }
   ],
   "source": [
    "print(bacon) # actual list\n",
    "bacon.append(99) # 99 is append  at the end of bacon list\n",
    "print(bacon)"
   ]
  },
  {
   "cell_type": "markdown",
   "id": "aa0db19f",
   "metadata": {},
   "source": [
    "### 8. How does bacon.remove('cat') change the look of the list in bacon?"
   ]
  },
  {
   "cell_type": "markdown",
   "id": "7ecbd99a",
   "metadata": {},
   "source": [
    "**Ans:** `remove()` function is used to remove  first occurence of the values from a list.In the function we have to specify the value which we want to remove."
   ]
  },
  {
   "cell_type": "code",
   "execution_count": 15,
   "id": "c71bf49b",
   "metadata": {},
   "outputs": [
    {
     "name": "stdout",
     "output_type": "stream",
     "text": [
      "[3.14, 11, 'cat', True, 99]\n",
      "[3.14, 11, True, 99]\n"
     ]
    }
   ],
   "source": [
    "print(bacon) # actual list\n",
    "bacon.remove('cat') # removing the cat value from the list.\n",
    "print(bacon)"
   ]
  },
  {
   "cell_type": "markdown",
   "id": "1eee7d45",
   "metadata": {},
   "source": [
    "### 9. What are the list concatenation and list replication operators?"
   ]
  },
  {
   "cell_type": "markdown",
   "id": "53e4441b",
   "metadata": {},
   "source": [
    "**Ans:** The operator for list concatination is `'+'` and the operator for list replication is `'*'`."
   ]
  },
  {
   "cell_type": "code",
   "execution_count": 18,
   "id": "5703a1d1",
   "metadata": {},
   "outputs": [
    {
     "name": "stdout",
     "output_type": "stream",
     "text": [
      "list concatination: ['a', 'b', 'c', 'd', 'e', 'f', 'g', 'h', 'i']\n",
      "list replication: ['a', 'b', 'c', 'd', 'a', 'b', 'c', 'd', 'a', 'b', 'c', 'd']\n"
     ]
    }
   ],
   "source": [
    "# example for list concatination\n",
    "\n",
    "lst1 = ['a','b','c','d']\n",
    "lst2 = ['e','f','g','h','i']\n",
    "print('list concatination:',lst1 + lst2)            # list concatination\n",
    "\n",
    "print('list replication:',lst1*3)                 # list replication"
   ]
  },
  {
   "cell_type": "markdown",
   "id": "39c0762e",
   "metadata": {},
   "source": [
    "### 10. What is difference between the list methods append() and insert()?"
   ]
  },
  {
   "cell_type": "markdown",
   "id": "830737bd",
   "metadata": {},
   "source": [
    "**Ans:** `append()` is used to add the values only at the end of the list.but with `insert()` we can add values in a list using index position."
   ]
  },
  {
   "cell_type": "code",
   "execution_count": 24,
   "id": "d267c97a",
   "metadata": {},
   "outputs": [
    {
     "name": "stdout",
     "output_type": "stream",
     "text": [
      "before appending ['sandeep', 'Rayudu', 25, 17]\n",
      "after appending: ['sandeep', 'Rayudu', 25, 17, 'datascience']\n",
      "before insert: ['sandeep', 'Rayudu', 25, 17, 'datascience']\n",
      "after inserting: ['sandeep', 'Rayudu', 'boya', 25, 17, 'datascience']\n"
     ]
    }
   ],
   "source": [
    "# exmaples\n",
    "lst = ['sandeep','Rayudu',25,17]\n",
    "print('before appending',lst)\n",
    "lst.append('datascience')  # append method\n",
    "print('after appending:',lst)\n",
    "\n",
    "print('before insert:',lst)\n",
    "lst.insert(2,'boya')\n",
    "print('after inserting:',lst) #insert method"
   ]
  },
  {
   "cell_type": "markdown",
   "id": "4d76e371",
   "metadata": {},
   "source": [
    "### 11. What are the two methods for removing items from a list?"
   ]
  },
  {
   "cell_type": "markdown",
   "id": "a796fdba",
   "metadata": {},
   "source": [
    "**Ans:** The two methods are `pop()` and `remove()` are used to remove the items from the list."
   ]
  },
  {
   "cell_type": "markdown",
   "id": "b759811b",
   "metadata": {},
   "source": [
    "### 12. Describe how list values and string values are identical."
   ]
  },
  {
   "cell_type": "markdown",
   "id": "e72d2a60",
   "metadata": {},
   "source": [
    "**Ans:** Both lists and strings can be passed to len() function, have indexes and slices, be used in for loops, be concatenated or replicated, and be used with the in and not in operators."
   ]
  },
  {
   "cell_type": "markdown",
   "id": "f95def9d",
   "metadata": {},
   "source": [
    "### 13. What's the difference between tuples and lists?"
   ]
  },
  {
   "cell_type": "markdown",
   "id": "76b074d9",
   "metadata": {},
   "source": [
    "**Ans:**  Lists are **Mutable, Indexable and Slicable** and values are added, removed, or changed. Tuples are **Immutable but Indexable and Slicable** and values cannot be changed at all. Also, tuples are represented using parentheses, **()**, while lists use the square brackets, **[]**."
   ]
  },
  {
   "cell_type": "markdown",
   "id": "596af49e",
   "metadata": {},
   "source": [
    "### 14. How do you type a tuple value that only contains the integer 42?"
   ]
  },
  {
   "cell_type": "markdown",
   "id": "0f7bd78d",
   "metadata": {},
   "source": [
    "**Ans:** we can type a type (42,).if we don't specify the comma it can be treated as integer datatype."
   ]
  },
  {
   "cell_type": "code",
   "execution_count": 28,
   "id": "b9d7795c",
   "metadata": {},
   "outputs": [
    {
     "name": "stdout",
     "output_type": "stream",
     "text": [
      "<class 'int'>\n",
      "<class 'tuple'>\n"
     ]
    }
   ],
   "source": [
    "#example\n",
    "\n",
    "t = (42)\n",
    "print(type(t)) # treated as integer\n",
    "\n",
    "t1 = (42,)\n",
    "print(type(t1)) # trated as tuple"
   ]
  },
  {
   "cell_type": "markdown",
   "id": "82c281de",
   "metadata": {},
   "source": [
    "### 15. How do you get a list value's tuple form? How do you get a tuple value's list form?"
   ]
  },
  {
   "cell_type": "markdown",
   "id": "7147f5fc",
   "metadata": {},
   "source": [
    "**Ans:**  The **`tuple()`** and **`list()`** functions, respectively are used to convert a list to tuple and vice versa."
   ]
  },
  {
   "cell_type": "markdown",
   "id": "40ca626e",
   "metadata": {},
   "source": [
    "### 16. Variables that \"contain\" list values are not necessarily lists themselves. Instead, what do they contain?"
   ]
  },
  {
   "cell_type": "markdown",
   "id": "e43c5ee3",
   "metadata": {},
   "source": [
    "**Ans:** They contain references to list values."
   ]
  },
  {
   "cell_type": "markdown",
   "id": "c21dc807",
   "metadata": {},
   "source": [
    "### 17. How do you distinguish between copy.copy() and copy.deepcopy()?"
   ]
  },
  {
   "cell_type": "markdown",
   "id": "6db8824b",
   "metadata": {},
   "source": [
    "**Ans:** ``copy.copy()`` create reference to original object. If you change copied object - you change the original object.`copy.deepcopy()` creates new object and does real copying of original object to new one. Changing new deepcopied object doesn't affect original object."
   ]
  },
  {
   "cell_type": "code",
   "execution_count": null,
   "id": "e286e0ee",
   "metadata": {},
   "outputs": [],
   "source": []
  }
 ],
 "metadata": {
  "kernelspec": {
   "display_name": "Python 3",
   "language": "python",
   "name": "python3"
  },
  "language_info": {
   "codemirror_mode": {
    "name": "ipython",
    "version": 3
   },
   "file_extension": ".py",
   "mimetype": "text/x-python",
   "name": "python",
   "nbconvert_exporter": "python",
   "pygments_lexer": "ipython3",
   "version": "3.8.8"
  }
 },
 "nbformat": 4,
 "nbformat_minor": 5
}
