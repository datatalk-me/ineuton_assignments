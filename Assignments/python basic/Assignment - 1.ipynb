{
 "cells": [
  {
   "cell_type": "code",
   "execution_count": null,
   "id": "63d86890",
   "metadata": {},
   "outputs": [],
   "source": []
  },
  {
   "cell_type": "markdown",
   "id": "71ee1f83",
   "metadata": {},
   "source": [
    "### 1. In the below elements which of them are values or an expression? eg:- values can be integer or string and expressions will be mathematical operators.\n",
    "\n",
    "*,'hello',-87.8,-,/,+,6"
   ]
  },
  {
   "cell_type": "markdown",
   "id": "4c401620",
   "metadata": {},
   "source": [
    "   **Ans:** There are Three values and four operators in the above elements.\n",
    "\n",
    "   **Operators:** *, -, /, +\n",
    "\n",
    "   **Values:** 'hello',-87.8,6\n"
   ]
  },
  {
   "cell_type": "markdown",
   "id": "1484d003",
   "metadata": {},
   "source": [
    "### 2. What is the difference between string and variable?\n"
   ]
  },
  {
   "cell_type": "markdown",
   "id": "0f3c7e14",
   "metadata": {},
   "source": [
    "**Ans:** A **variable** is used to store the information it is like an empty box that we can fill it with some value,**Strings** are data to fill in the variable.There are some rules to declare a variable but we can dentote a string in **'  '(single quotes) or in \"  \"(double quotes)**\n",
    "\n",
    "**Example**: **Name = 'Sandeep'**      #here name is a variable and 'Sandeep' is a string"
   ]
  },
  {
   "cell_type": "markdown",
   "id": "37de7ba1",
   "metadata": {},
   "source": [
    "### 3. Describe three different data types."
   ]
  },
  {
   "cell_type": "markdown",
   "id": "a926571f",
   "metadata": {},
   "source": [
    "**Ans:** The Basic datatypes avaliable in python are **int,float,booleans,complex**\n",
    "\n",
    "**int**(integer):Integers are one of the types used to represent the numbers in python.They can be both positive and negative and may be arbitary large."
   ]
  },
  {
   "cell_type": "code",
   "execution_count": 9,
   "id": "698c882d",
   "metadata": {},
   "outputs": [
    {
     "name": "stdout",
     "output_type": "stream",
     "text": [
      "56\n",
      "-45\n",
      "12345678901234567890\n"
     ]
    }
   ],
   "source": [
    "# examples of a integer\n",
    "\n",
    "num = 56 #positive number\n",
    "print(num)\n",
    "\n",
    "neg_num = -45 #negative number\n",
    "print(neg_num)\n",
    "\n",
    "large_num = 12345678901234567890\n",
    "print(large_num)"
   ]
  },
  {
   "cell_type": "markdown",
   "id": "c318f5eb",
   "metadata": {},
   "source": [
    "**float:** Float is another datatype where we can represent decimal values in both positive and negative."
   ]
  },
  {
   "cell_type": "code",
   "execution_count": 10,
   "id": "6fa006d6",
   "metadata": {},
   "outputs": [
    {
     "name": "stdout",
     "output_type": "stream",
     "text": [
      "3.1416\n",
      "0.302\n"
     ]
    }
   ],
   "source": [
    "# examples of float\n",
    "\n",
    "pie_values = 3.1416\n",
    "print(pie_values)\n",
    "\n",
    "std_form = 0.302000000000000000000000\n",
    "print(std_form)"
   ]
  },
  {
   "cell_type": "markdown",
   "id": "1ac24590",
   "metadata": {},
   "source": [
    "**Boolean**: is a built-in logical data type that is mainly used for checking whether the logic of an expression is true or false.There are only two boolean values **True , False**"
   ]
  },
  {
   "cell_type": "code",
   "execution_count": 11,
   "id": "50660c05",
   "metadata": {},
   "outputs": [
    {
     "name": "stdout",
     "output_type": "stream",
     "text": [
      "True\n",
      "False\n",
      "True\n",
      "False\n"
     ]
    }
   ],
   "source": [
    "# examples of boolean\n",
    "\n",
    "print(True)\n",
    "print(False)\n",
    "\n",
    "true_value = True\n",
    "false_value = False\n",
    "print(true_value)\n",
    "print(false_value)"
   ]
  },
  {
   "cell_type": "markdown",
   "id": "ceb8dae0",
   "metadata": {},
   "source": [
    "### 4. What is an expression made up of? What do all expressions do? "
   ]
  },
  {
   "cell_type": "markdown",
   "id": "cfcdb6cf",
   "metadata": {},
   "source": [
    "**Ans:** An expression is a combination values,operators and operands a that is interpreted to produce some other values."
   ]
  },
  {
   "cell_type": "code",
   "execution_count": 12,
   "id": "cdf51784",
   "metadata": {},
   "outputs": [
    {
     "data": {
      "text/plain": [
       "4.5"
      ]
     },
     "execution_count": 12,
     "metadata": {},
     "output_type": "execute_result"
    }
   ],
   "source": [
    "# example of expression\n",
    "\n",
    "a = 3\n",
    "5+5*3/6-a  # here the operators are +,*,/ and values are values 5,5,3,6 amd operands are a."
   ]
  },
  {
   "cell_type": "markdown",
   "id": "9ec07158",
   "metadata": {},
   "source": [
    "### 5. This assignment statements, like spam = 10. What is the difference between an expression and a statement?"
   ]
  },
  {
   "cell_type": "markdown",
   "id": "fc3de83b",
   "metadata": {},
   "source": [
    "**Ans:** An **expression** is a combination values,operators and operands a that is interpreted to produce some other values and a **Statement** is an instruction that a python interpreter can excute in simple words every newline in a python script is a statement."
   ]
  },
  {
   "cell_type": "code",
   "execution_count": 13,
   "id": "0bb54a70",
   "metadata": {},
   "outputs": [
    {
     "data": {
      "text/plain": [
       "4.5"
      ]
     },
     "execution_count": 13,
     "metadata": {},
     "output_type": "execute_result"
    }
   ],
   "source": [
    "# example of an expression\n",
    "\n",
    "a = 3\n",
    "5+5*3/6-a  # here the operators are +,*,/ and values are values 5,5,3,6 amd operands are a."
   ]
  },
  {
   "cell_type": "code",
   "execution_count": 14,
   "id": "9fbd4673",
   "metadata": {},
   "outputs": [
    {
     "name": "stdout",
     "output_type": "stream",
     "text": [
      "This is a statement\n"
     ]
    }
   ],
   "source": [
    "# example of a statement\n",
    "\n",
    "new = 10 # this is a statement\n",
    "\n",
    "if new==10: # this is also a statement.there are other kinds of statement for,while,if\n",
    "    print('This is a statement')\n"
   ]
  },
  {
   "cell_type": "markdown",
   "id": "b5a2fb4c",
   "metadata": {},
   "source": [
    "### 6. After running the following code, what does the variable bacon contain?\n",
    "\n",
    "**bacon = 22**\n",
    "\n",
    "**bacon + 1**"
   ]
  },
  {
   "cell_type": "markdown",
   "id": "976dd09c",
   "metadata": {},
   "source": [
    "**Ans:** In the first statement we have assigned a value 22 to the variable bacon and in the second statement we are just adding the value 1 to the bacon.it is not going to reassign the value to the variable bacon.if you want to reassign we have to use this syntax **bacon = bacon + 1** or **bacon += 1**."
   ]
  },
  {
   "cell_type": "code",
   "execution_count": 15,
   "id": "7b103411",
   "metadata": {},
   "outputs": [
    {
     "name": "stdout",
     "output_type": "stream",
     "text": [
      "22\n"
     ]
    }
   ],
   "source": [
    "# executing the code\n",
    "\n",
    "bacon = 22\n",
    "bacon + 1\n",
    "print(bacon)"
   ]
  },
  {
   "cell_type": "code",
   "execution_count": 16,
   "id": "c770ae5c",
   "metadata": {},
   "outputs": [
    {
     "name": "stdout",
     "output_type": "stream",
     "text": [
      "23\n"
     ]
    }
   ],
   "source": [
    "# trying to ressign the value\n",
    "\n",
    "bacon = 22\n",
    "bacon +=1   # we can also use bacon = bacon + 1\n",
    "print(bacon)"
   ]
  },
  {
   "cell_type": "markdown",
   "id": "f3ce32b2",
   "metadata": {},
   "source": [
    "### 7. What should the values of the following two terms be?\n",
    "\n",
    "**'spam' + 'spamspam'**\n",
    "\n",
    "**'spam' * 3**"
   ]
  },
  {
   "cell_type": "markdown",
   "id": "1acd9a08",
   "metadata": {},
   "source": [
    "**Ans:** Both expressions gives the same output but first expression is **string concatination** and second expression is a **string multiplication**"
   ]
  },
  {
   "cell_type": "code",
   "execution_count": 17,
   "id": "b65b4883",
   "metadata": {},
   "outputs": [
    {
     "data": {
      "text/plain": [
       "'spamspamspam'"
      ]
     },
     "execution_count": 17,
     "metadata": {},
     "output_type": "execute_result"
    }
   ],
   "source": [
    "# string concatination\n",
    "'spam' + 'spamspam'"
   ]
  },
  {
   "cell_type": "code",
   "execution_count": 18,
   "id": "a248a899",
   "metadata": {},
   "outputs": [
    {
     "data": {
      "text/plain": [
       "'spamspamspam'"
      ]
     },
     "execution_count": 18,
     "metadata": {},
     "output_type": "execute_result"
    }
   ],
   "source": [
    "# string multiplication\n",
    "'spam'*3"
   ]
  },
  {
   "cell_type": "markdown",
   "id": "2c3273a4",
   "metadata": {},
   "source": [
    "### 8. Why is eggs a valid variable name while 100 is invalid?"
   ]
  },
  {
   "cell_type": "markdown",
   "id": "615c23b5",
   "metadata": {},
   "source": [
    "**Ans:** There are some conditions to specify the variable names in python.\n",
    "* A variable name must start with a letter or the underscore character.\n",
    "*A variable name cannot start with a number.\n",
    "*A variable name can only contain alpha-numeric characters and underscores (A-z, 0-9, and _ )\n",
    "*Variable names are case-sensitive (age, Age and AGE are three different variables)"
   ]
  },
  {
   "cell_type": "code",
   "execution_count": 19,
   "id": "f513be57",
   "metadata": {},
   "outputs": [
    {
     "name": "stdout",
     "output_type": "stream",
     "text": [
      "Sandeep\n"
     ]
    }
   ],
   "source": [
    "# example for valid variable name\n",
    "\n",
    "eggs = 'Sandeep'   # here we have specified the variable name based on above conditions\n",
    "print(eggs)"
   ]
  },
  {
   "cell_type": "code",
   "execution_count": 21,
   "id": "c0296494",
   "metadata": {},
   "outputs": [
    {
     "ename": "SyntaxError",
     "evalue": "cannot assign to literal (<ipython-input-21-832c80080f65>, line 3)",
     "output_type": "error",
     "traceback": [
      "\u001b[0;36m  File \u001b[0;32m\"<ipython-input-21-832c80080f65>\"\u001b[0;36m, line \u001b[0;32m3\u001b[0m\n\u001b[0;31m    100 = 'Sandeep'\u001b[0m\n\u001b[0m    ^\u001b[0m\n\u001b[0;31mSyntaxError\u001b[0m\u001b[0;31m:\u001b[0m cannot assign to literal\n"
     ]
    }
   ],
   "source": [
    "# examples for invalid variable name\n",
    "\n",
    "100 = 'Sandeep'\n",
    "print(100)  \n",
    "'''raised syntax error because we didn't follow the second condition \n",
    "where we cannot start a variable name with number.'''"
   ]
  },
  {
   "cell_type": "markdown",
   "id": "1afaac77",
   "metadata": {},
   "source": [
    "### 9. What three functions can be used to get the integer, floating-point number, or string version of a value?"
   ]
  },
  {
   "cell_type": "markdown",
   "id": "d6b330c6",
   "metadata": {},
   "source": [
    "**Ans:** `int()`,`float()`,`str()` funtions are used to get integer,floating-point and string.This is known as casting.\n",
    "\n",
    "* `int()` - constructs an integer number from an integer literal, a float literal (by removing all decimals), or a string literal (providing the string represents a whole number)\n",
    "* `float()` - constructs a float number from an integer literal, a float literal or a string literal (providing the string represents a float or an integer)\n",
    "* `str()` - constructs a string from a wide variety of data types, including strings, integer literals and float literals\n"
   ]
  },
  {
   "cell_type": "code",
   "execution_count": 27,
   "id": "7f898c72",
   "metadata": {},
   "outputs": [
    {
     "name": "stdout",
     "output_type": "stream",
     "text": [
      "integer: 5 5 5\n",
      "float 5.0 5.0 5.0\n",
      "string 5 5.0 5.0\n"
     ]
    }
   ],
   "source": [
    "# examples of integer\n",
    "num0 = int(5)\n",
    "num1 = int(5.0)\n",
    "num2 = int('5')\n",
    "#num3 = int('sandeep') we are not able to convert the string with characters in to integers as well as floats\n",
    "print('integer:',num0,num1,num2)   # here all the values are converted in to integer.\n",
    "\n",
    "#examples of float\n",
    "flt0 = float(5)\n",
    "flt1 = float(5.0)\n",
    "flt2 = float('5.0')\n",
    "print('float',flt0,flt1,flt2)\n",
    "\n",
    "# examples of str\n",
    "str0 = str(5)\n",
    "str1 = str(5.0)\n",
    "str2 = str('5.0')\n",
    "print('string',str0,str1,str2)"
   ]
  },
  {
   "cell_type": "markdown",
   "id": "4299ace4",
   "metadata": {},
   "source": [
    "### 10. Why does this expression cause an error? How can you fix it?\n",
    "\n",
    "**'I have eaten ' + 99 + ' burritos.'**"
   ]
  },
  {
   "cell_type": "markdown",
   "id": "831ab31d",
   "metadata": {},
   "source": [
    "**Ans:** in the above expression we are tring to concatinating **integer(99)** with string.in order to concatinate we have to convert or cast the integer into string."
   ]
  },
  {
   "cell_type": "code",
   "execution_count": 28,
   "id": "960ea2d8",
   "metadata": {},
   "outputs": [
    {
     "ename": "TypeError",
     "evalue": "can only concatenate str (not \"int\") to str",
     "output_type": "error",
     "traceback": [
      "\u001b[0;31m---------------------------------------------------------------------------\u001b[0m",
      "\u001b[0;31mTypeError\u001b[0m                                 Traceback (most recent call last)",
      "\u001b[0;32m<ipython-input-28-2ea2cb4275ca>\u001b[0m in \u001b[0;36m<module>\u001b[0;34m\u001b[0m\n\u001b[0;32m----> 1\u001b[0;31m \u001b[0;34m'i have eaten'\u001b[0m \u001b[0;34m+\u001b[0m \u001b[0;36m99\u001b[0m \u001b[0;34m+\u001b[0m \u001b[0;34m'burritos'\u001b[0m\u001b[0;34m\u001b[0m\u001b[0;34m\u001b[0m\u001b[0m\n\u001b[0m",
      "\u001b[0;31mTypeError\u001b[0m: can only concatenate str (not \"int\") to str"
     ]
    }
   ],
   "source": [
    "'i have eaten' + 99 + 'burritos' # we got type error because we can't concatenate int with str"
   ]
  },
  {
   "cell_type": "code",
   "execution_count": 31,
   "id": "a978e7d0",
   "metadata": {},
   "outputs": [
    {
     "data": {
      "text/plain": [
       "'i have eaten 99 burritos'"
      ]
     },
     "execution_count": 31,
     "metadata": {},
     "output_type": "execute_result"
    }
   ],
   "source": [
    "# casting integer into a string\n",
    "\n",
    "'i have eaten ' + str(99) + ' burritos'"
   ]
  },
  {
   "cell_type": "code",
   "execution_count": null,
   "id": "3df9f76f",
   "metadata": {},
   "outputs": [],
   "source": []
  }
 ],
 "metadata": {
  "kernelspec": {
   "display_name": "Python 3",
   "language": "python",
   "name": "python3"
  },
  "language_info": {
   "codemirror_mode": {
    "name": "ipython",
    "version": 3
   },
   "file_extension": ".py",
   "mimetype": "text/x-python",
   "name": "python",
   "nbconvert_exporter": "python",
   "pygments_lexer": "ipython3",
   "version": "3.8.8"
  }
 },
 "nbformat": 4,
 "nbformat_minor": 5
}
