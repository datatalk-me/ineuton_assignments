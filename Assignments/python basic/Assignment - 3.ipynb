{
 "cells": [
  {
   "cell_type": "markdown",
   "id": "61cad8e1",
   "metadata": {},
   "source": [
    "## Assignment - 3 Solutions"
   ]
  },
  {
   "cell_type": "markdown",
   "id": "e5cb7244",
   "metadata": {},
   "source": [
    "### 1. Why are functions advantageous to have in your programs?"
   ]
  },
  {
   "cell_type": "markdown",
   "id": "312f7346",
   "metadata": {},
   "source": [
    "**Ans:** A function is a block of code used to do a specific task and can reuse that block of code where ever we need.The main advantages of using functions are reducing the duplication of code and decomposing the complex code into simpler pieces."
   ]
  },
  {
   "cell_type": "markdown",
   "id": "2973b327",
   "metadata": {},
   "source": [
    "### 2.When does the code in a function run: when it's specified or when it's called?"
   ]
  },
  {
   "cell_type": "markdown",
   "id": "26ea6b5a",
   "metadata": {},
   "source": [
    "**Ans:** The code in a function run only when the function is called.in order to call the function we have to specify first."
   ]
  },
  {
   "cell_type": "markdown",
   "id": "6740eefb",
   "metadata": {},
   "source": [
    "### 3. What statement creates a function?"
   ]
  },
  {
   "cell_type": "markdown",
   "id": "8c283ccd",
   "metadata": {},
   "source": [
    "**Ans:** **`def`** keyword is used to create a function."
   ]
  },
  {
   "cell_type": "code",
   "execution_count": 2,
   "id": "b44583dd",
   "metadata": {},
   "outputs": [],
   "source": [
    "# syntax to define a function\n",
    "\n",
    "def function_name(parameters): \n",
    "    # we can specify any name in place of function_name and we can pass 0 or more parameters\n",
    "    \n",
    "    '''local variables'''   # some times we may need some local variables and we will specify here\n",
    "    \n",
    "    ''' logic '''           # we will write the logic for a specific task\n",
    "    \n",
    "    return                  # This keyword is used to return somthing from the method \n",
    "                            #for examples returning sum of intgers\n",
    "    "
   ]
  },
  {
   "cell_type": "markdown",
   "id": "f2d0be81",
   "metadata": {},
   "source": [
    "### 4. What is the difference between a function and a function call?"
   ]
  },
  {
   "cell_type": "markdown",
   "id": "0ac47f16",
   "metadata": {},
   "source": [
    "**Ans:** A function is a block of code which only runs when it is called.function call is used to run the function where ever we want use that specific funtion."
   ]
  },
  {
   "cell_type": "markdown",
   "id": "c09f5d8b",
   "metadata": {},
   "source": [
    "### 5. How many global scopes are there in a Python program? How many local scopes?"
   ]
  },
  {
   "cell_type": "markdown",
   "id": "75a4f495",
   "metadata": {},
   "source": [
    "**Ans:** There is only one global scope and one local scope per program execution.This scope remains in existence until the program terminates and all its names are forgotten."
   ]
  },
  {
   "cell_type": "markdown",
   "id": "72fde69e",
   "metadata": {},
   "source": [
    "### 6. What happens to variables in a local scope when the function call returns?"
   ]
  },
  {
   "cell_type": "markdown",
   "id": "646ffa2b",
   "metadata": {},
   "source": [
    "**Ans:** when ever the function returns the variables in the local and global scope are erased."
   ]
  },
  {
   "cell_type": "markdown",
   "id": "1b7e2c6e",
   "metadata": {},
   "source": [
    "### 7. What is the concept of a return value? Is it possible to have a return value in an expression?m"
   ]
  },
  {
   "cell_type": "markdown",
   "id": "9093d236",
   "metadata": {},
   "source": [
    "**Ans:** A return value is the value that a function call evaluates to. Like any value, a return value can be used as part of an expression."
   ]
  },
  {
   "cell_type": "markdown",
   "id": "1808d8d2",
   "metadata": {},
   "source": [
    "### 8. If a function does not have a return statement, what is the return value of a call to that function?"
   ]
  },
  {
   "cell_type": "markdown",
   "id": "1342ae60",
   "metadata": {},
   "source": [
    "**Ans:** if there is no return statement in a function defination then the return value of a called function is undefined."
   ]
  },
  {
   "cell_type": "markdown",
   "id": "758c870e",
   "metadata": {},
   "source": [
    "### 9.How do you make a function variable refer to the global variable?"
   ]
  },
  {
   "cell_type": "markdown",
   "id": "bcc35138",
   "metadata": {},
   "source": [
    "**Ans:**\n",
    "A global statement will force a variable in a function to refer to the global variable. If you want to refer to a global variable in a function, you can use the global keyword to declare which variables are global."
   ]
  },
  {
   "cell_type": "markdown",
   "id": "e5662601",
   "metadata": {},
   "source": [
    "### 10. What is the data type of None?"
   ]
  },
  {
   "cell_type": "markdown",
   "id": "3905d90b",
   "metadata": {},
   "source": [
    "**Ans:** datatype of None is **`NoneType`**"
   ]
  },
  {
   "cell_type": "code",
   "execution_count": 4,
   "id": "8ec5054a",
   "metadata": {},
   "outputs": [
    {
     "data": {
      "text/plain": [
       "NoneType"
      ]
     },
     "execution_count": 4,
     "metadata": {},
     "output_type": "execute_result"
    }
   ],
   "source": [
    "type(None)"
   ]
  },
  {
   "cell_type": "markdown",
   "id": "7c73fb9c",
   "metadata": {},
   "source": [
    "### 11. What does the sentence import areallyourpetsnamederic do?"
   ]
  },
  {
   "cell_type": "markdown",
   "id": "176865e7",
   "metadata": {},
   "source": [
    "**Ans:** it just import the module called areallyourpetsnamederic."
   ]
  },
  {
   "cell_type": "markdown",
   "id": "dfe84800",
   "metadata": {},
   "source": [
    "### 12. If you had a bacon() feature in a spam module, what would you call it after importing spam?"
   ]
  },
  {
   "cell_type": "markdown",
   "id": "1124b98b",
   "metadata": {},
   "source": [
    "**Ans:**  we call **`spam.bacon()`** after importing the spam module"
   ]
  },
  {
   "cell_type": "markdown",
   "id": "c9ad69cb",
   "metadata": {},
   "source": [
    "### 13. What can you do to save a programme from crashing if it encounters an error?"
   ]
  },
  {
   "cell_type": "markdown",
   "id": "1a9c06ef",
   "metadata": {},
   "source": [
    "**Ans:** we will use **`try`** clause and **`except`** clause to catch the errors."
   ]
  },
  {
   "cell_type": "markdown",
   "id": "7ce3d565",
   "metadata": {},
   "source": [
    "### 14. What is the purpose of the try clause? What is the purpose of the except clause?"
   ]
  },
  {
   "cell_type": "markdown",
   "id": "3a263d34",
   "metadata": {},
   "source": [
    "**Ans:** The try clause let you test a block of code for errors and  except clause let you to handle the errors."
   ]
  },
  {
   "cell_type": "code",
   "execution_count": null,
   "id": "439c8098",
   "metadata": {},
   "outputs": [],
   "source": []
  }
 ],
 "metadata": {
  "kernelspec": {
   "display_name": "Python 3",
   "language": "python",
   "name": "python3"
  },
  "language_info": {
   "codemirror_mode": {
    "name": "ipython",
    "version": 3
   },
   "file_extension": ".py",
   "mimetype": "text/x-python",
   "name": "python",
   "nbconvert_exporter": "python",
   "pygments_lexer": "ipython3",
   "version": "3.8.8"
  }
 },
 "nbformat": 4,
 "nbformat_minor": 5
}
