{
 "cells": [
  {
   "cell_type": "markdown",
   "id": "3c553749",
   "metadata": {},
   "source": [
    "## Assignment - 2 Solutions"
   ]
  },
  {
   "cell_type": "markdown",
   "id": "19a0e502",
   "metadata": {},
   "source": [
    "### 1.What are the two values of the boolean data types? how do you write them ?"
   ]
  },
  {
   "cell_type": "markdown",
   "id": "e19037d2",
   "metadata": {},
   "source": [
    "**Ans:** The two values of the boolean data types are `True` and `False`.we have write the first letters capital in **T**rue and **F**alse and the rest of the characters in lowercase."
   ]
  },
  {
   "cell_type": "code",
   "execution_count": 1,
   "id": "bed8b290",
   "metadata": {},
   "outputs": [
    {
     "name": "stdout",
     "output_type": "stream",
     "text": [
      "<class 'bool'>\n",
      "<class 'bool'>\n"
     ]
    }
   ],
   "source": [
    "# example\n",
    "a = True\n",
    "b = False\n",
    "\n",
    "print(type(a)) # here we are trying to find the type of the variable and it returned bool\n",
    "print(type(b))"
   ]
  },
  {
   "cell_type": "markdown",
   "id": "f541a922",
   "metadata": {},
   "source": [
    "### 2. What are the three different types of Boolean operators?"
   ]
  },
  {
   "cell_type": "markdown",
   "id": "0784a9f2",
   "metadata": {},
   "source": [
    "**Ans:** Three different types of boolean operators  are : **`and`,`or`,`not`.**\n",
    "\n",
    "* The And operator('and' or '&')\n",
    "*The or operator('or' or '|')\n",
    "*The not operator('not')"
   ]
  },
  {
   "cell_type": "code",
   "execution_count": 2,
   "id": "28b970c5",
   "metadata": {},
   "outputs": [
    {
     "name": "stdout",
     "output_type": "stream",
     "text": [
      "False\n",
      "True\n",
      "False\n"
     ]
    }
   ],
   "source": [
    "# examples of boolean operators.\n",
    "a = 30\n",
    "b = 45\n",
    "print(a > 30 and b > 35)  # example of boolean and\n",
    "print(a > 30 or b > 35)   # example of boolean or\n",
    "print(not(a > 25))        # example of boolean not"
   ]
  },
  {
   "cell_type": "markdown",
   "id": "695d592b",
   "metadata": {},
   "source": [
    "### 3. Make a list of each Boolean operator's truth tables (i.e. every possible combination of Boolean values for the operator and what it evaluate )."
   ]
  },
  {
   "cell_type": "markdown",
   "id": "06cad0e7",
   "metadata": {},
   "source": [
    "**Ans:** Truth tables of boolean operator's\n",
    "\n",
    "**Truth table for `and`**\n",
    "\n",
    "* True and True = True\n",
    "* True and False = False\n",
    "* False and True = False\n",
    "* False and False = False\n",
    "\n",
    "**Truth table for `or`**\n",
    "* True or True = True\n",
    "* True or False = True\n",
    "* False or True = True\n",
    "* False or False = False\n",
    "\n",
    "**Truth table for `not`**\n",
    "* not(True) = False\n",
    "* not(False) = True"
   ]
  },
  {
   "cell_type": "markdown",
   "id": "086bb752",
   "metadata": {},
   "source": [
    "### 4. What are the values of the following expressions?\n",
    "\n",
    "* (5 > 4) and (3 == 5)\n",
    "* not (5 > 4)\n",
    "* (5 > 4) or (3 == 5)\n",
    "*not ((5 > 4) or (3 == 5))\n",
    "*(True and True) and (True == False)\n",
    "*(not False) or (not True)"
   ]
  },
  {
   "cell_type": "code",
   "execution_count": 3,
   "id": "08cb6bf1",
   "metadata": {},
   "outputs": [
    {
     "name": "stdout",
     "output_type": "stream",
     "text": [
      "False\n",
      "False\n",
      "True\n",
      "False\n",
      "False\n",
      "True\n"
     ]
    }
   ],
   "source": [
    "# finding the solutions\n",
    "\n",
    "print((5 > 4) and (3 == 5))                # False\n",
    "print(not (5 > 4))                         # False             \n",
    "print((5 > 4) or (3 == 5))                 # True\n",
    "print(not ((5 > 4) or (3 == 5)))           # False\n",
    "print((True and True) and (True == False)) # False\n",
    "print((not False) or (not True))           # True"
   ]
  },
  {
   "cell_type": "markdown",
   "id": "2a24b98a",
   "metadata": {},
   "source": [
    "### 5. What are the six comparison operators?"
   ]
  },
  {
   "cell_type": "markdown",
   "id": "d0b56f2a",
   "metadata": {},
   "source": [
    "**Ans:** The comparison operators are used to compare the values and return the boolean value\n",
    "\n",
    " Python has six comparison operators: \n",
    " \n",
    " `1.less than ( < )\n",
    " 2.less than or equal to ( <= )\n",
    " 3.greater than ( > )\n",
    " 4.greater than or equal to ( >= ) \n",
    " 5.equal to ( == )\n",
    " 6.and not equal to ( != ).`"
   ]
  },
  {
   "cell_type": "markdown",
   "id": "191fd211",
   "metadata": {},
   "source": [
    "### 6. How do you tell the difference between the equal to and assignment operators?Describe a condition and when you would use one."
   ]
  },
  {
   "cell_type": "markdown",
   "id": "f78130fb",
   "metadata": {},
   "source": [
    "**Ans:** `=` is a assignment operator and `==` is a comparision operator"
   ]
  },
  {
   "cell_type": "code",
   "execution_count": 4,
   "id": "fafeb744",
   "metadata": {},
   "outputs": [
    {
     "name": "stdout",
     "output_type": "stream",
     "text": [
      "age is 25\n"
     ]
    }
   ],
   "source": [
    "# examples\n",
    "\n",
    "age = 25 # assignment operator statement where age variable can store value as 25\n",
    "\n",
    "if age ==25: #  comparasion operator statement where age variable is compared with 25\n",
    "    print('age is 25')"
   ]
  },
  {
   "cell_type": "markdown",
   "id": "a0246d1d",
   "metadata": {},
   "source": [
    "### 7. Identify the three blocks in this code:\n",
    "\n",
    "*spam = 0\n",
    "if spam == 10:\n",
    "print('eggs')\n",
    "if spam > 5:\n",
    "print('bacon')\n",
    "else:\n",
    "print('ham')\n",
    "print('spam')\n",
    "print('spam')*"
   ]
  },
  {
   "cell_type": "markdown",
   "id": "0bddd764",
   "metadata": {},
   "source": [
    "**Ans:** In python code blocks refers to a collection of code that is in the same block or ident.This commonly found in classes,functions,loops and conditions.\n"
   ]
  },
  {
   "cell_type": "code",
   "execution_count": 5,
   "id": "e4fcb07f",
   "metadata": {},
   "outputs": [
    {
     "name": "stdout",
     "output_type": "stream",
     "text": [
      "ham\n",
      "spam\n",
      "spam\n"
     ]
    }
   ],
   "source": [
    "spam = 0\n",
    "if spam == 10:\n",
    "    print('eggs') # first block\n",
    "if spam > 5:\n",
    "    print('bacon') # second block\n",
    "else:\n",
    "    print('ham')  # third block\n",
    "    print('spam')\n",
    "    print('spam')"
   ]
  },
  {
   "cell_type": "markdown",
   "id": "5f63794c",
   "metadata": {},
   "source": [
    "### 8.Write code that prints Hello if 1 is stored in spam, prints Howdy if 2 is stored in spam, and prints Greetings! if anything else is stored in spam."
   ]
  },
  {
   "cell_type": "code",
   "execution_count": 8,
   "id": "a64200ba",
   "metadata": {},
   "outputs": [
    {
     "name": "stdout",
     "output_type": "stream",
     "text": [
      "Enter the value:33\n",
      "Greetings\n"
     ]
    }
   ],
   "source": [
    "# using conditions\n",
    "spam = int(input('Enter the value:'))\n",
    "\n",
    "if spam == 1:\n",
    "    print('Hello')\n",
    "elif spam == 2:\n",
    "    print('Howdy')\n",
    "else:\n",
    "    print('Greetings')"
   ]
  },
  {
   "cell_type": "code",
   "execution_count": 9,
   "id": "d44b8874",
   "metadata": {},
   "outputs": [
    {
     "name": "stdout",
     "output_type": "stream",
     "text": [
      "Hello\n",
      "Howdy\n",
      "Greetings\n"
     ]
    }
   ],
   "source": [
    "# using functions\n",
    "\n",
    "def storespam(spam):\n",
    "    if spam == 1:\n",
    "        print('Hello')\n",
    "    elif spam == 2:\n",
    "        print('Howdy')\n",
    "    else:\n",
    "        print('Greetings')\n",
    "        \n",
    "storespam(1)\n",
    "storespam(2)\n",
    "storespam(4)"
   ]
  },
  {
   "cell_type": "markdown",
   "id": "9856c797",
   "metadata": {},
   "source": [
    "### 9.If your programme is stuck in an endless loop, what keys you’ll press?"
   ]
  },
  {
   "cell_type": "markdown",
   "id": "577d1108",
   "metadata": {},
   "source": [
    "**Ans:** we will use **`Ctrl+c`** to come out from the infinity loop"
   ]
  },
  {
   "cell_type": "markdown",
   "id": "efcdbe8c",
   "metadata": {},
   "source": [
    "### 10. How can you tell the difference between break and continue?"
   ]
  },
  {
   "cell_type": "markdown",
   "id": "41ed40f0",
   "metadata": {},
   "source": [
    "**Ans:** The main difference between both the statements is that when break keyword comes, it terminates the execution of the current loop and passes the control over the next loop or main body, whereas when continue keyword is encountered, it skips the current iteration and executes the very next iteration in the loop."
   ]
  },
  {
   "cell_type": "markdown",
   "id": "b52f8990",
   "metadata": {},
   "source": [
    "### 11. In a for loop, what is the difference between range(10), range(0, 10), and range(0, 10, 1)?"
   ]
  },
  {
   "cell_type": "markdown",
   "id": "e957f29e",
   "metadata": {},
   "source": [
    "**Ans:** differences between the above statements\n",
    "\n",
    "1. The range(10) call range from 0 to 9 (but excludes 10)\n",
    "2. The range (0,10) explicitly tells the loop to start at 0\n",
    "3. The range(0,10,1) explicitly tells the loop to increase the variable by 1 on each iteration"
   ]
  },
  {
   "cell_type": "markdown",
   "id": "5883a25d",
   "metadata": {},
   "source": [
    "### 12. Write a short program that prints the numbers 1 to 10 using a for loop. Then write an equivalent program that prints the numbers 1 to 10 using a while loop."
   ]
  },
  {
   "cell_type": "code",
   "execution_count": 11,
   "id": "7219e892",
   "metadata": {},
   "outputs": [
    {
     "name": "stdout",
     "output_type": "stream",
     "text": [
      "1 2 3 4 5 6 7 8 9 10 "
     ]
    }
   ],
   "source": [
    "# writing a program to print the numbers from 1 to 10 using for loop\n",
    "for i in range(1,11):\n",
    "    print(i,end=' ')"
   ]
  },
  {
   "cell_type": "code",
   "execution_count": 13,
   "id": "7c698f7c",
   "metadata": {},
   "outputs": [
    {
     "name": "stdout",
     "output_type": "stream",
     "text": [
      "1 2 3 4 5 6 7 8 9 10 "
     ]
    }
   ],
   "source": [
    "# writing a program to print the numbers ranging from 1 to 10 using while loop\n",
    "\n",
    "i = 1\n",
    "while i<=10:\n",
    "    print(i, end=' ')\n",
    "    i+=1\n"
   ]
  },
  {
   "cell_type": "markdown",
   "id": "74877a50",
   "metadata": {},
   "source": [
    "### 13. If you had a function named bacon() inside a module named spam, how would you call it after importing spam?\n"
   ]
  },
  {
   "cell_type": "markdown",
   "id": "ed27470c",
   "metadata": {},
   "source": [
    "**Ans**: \n",
    "\n",
    "import spam     **# importing spam module**\n",
    "\n",
    "spam.bacon()    **# calling a function called bacon**\n"
   ]
  },
  {
   "cell_type": "code",
   "execution_count": null,
   "id": "b6b86b17",
   "metadata": {},
   "outputs": [],
   "source": []
  }
 ],
 "metadata": {
  "kernelspec": {
   "display_name": "Python 3",
   "language": "python",
   "name": "python3"
  },
  "language_info": {
   "codemirror_mode": {
    "name": "ipython",
    "version": 3
   },
   "file_extension": ".py",
   "mimetype": "text/x-python",
   "name": "python",
   "nbconvert_exporter": "python",
   "pygments_lexer": "ipython3",
   "version": "3.8.8"
  }
 },
 "nbformat": 4,
 "nbformat_minor": 5
}
