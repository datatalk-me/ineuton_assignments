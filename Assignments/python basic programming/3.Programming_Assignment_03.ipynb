{
 "cells": [
  {
   "cell_type": "markdown",
   "id": "e3226c86",
   "metadata": {},
   "source": [
    "## Assignment 3 solutions"
   ]
  },
  {
   "cell_type": "markdown",
   "id": "7f362c25",
   "metadata": {},
   "source": [
    "### 1.Write a Python program to check if a Number is Positive, Negative or Zero ?"
   ]
  },
  {
   "cell_type": "code",
   "execution_count": 4,
   "id": "5dac6609",
   "metadata": {},
   "outputs": [
    {
     "name": "stdout",
     "output_type": "stream",
     "text": [
      "enter any number: 0\n",
      "0 is zero\n"
     ]
    }
   ],
   "source": [
    "number = int(input('enter any number: '))\n",
    "\n",
    "if number > 0:\n",
    "    print('{} is a positive number'.format(number))\n",
    "elif number < 0:\n",
    "    print('{} is a negative number'.format(number))\n",
    "else:\n",
    "    print('{} is zero'.format(number))"
   ]
  },
  {
   "cell_type": "markdown",
   "id": "f02c2b67",
   "metadata": {},
   "source": [
    "### 2.Write a Python program to check if a Number is Odd or Even ?"
   ]
  },
  {
   "cell_type": "code",
   "execution_count": 6,
   "id": "171fb1f5",
   "metadata": {},
   "outputs": [
    {
     "name": "stdout",
     "output_type": "stream",
     "text": [
      "enter any number: 45\n",
      "45 is odd number\n"
     ]
    }
   ],
   "source": [
    "def evenOrOdd(number):\n",
    "    ''' Check if a given number is even or odd '''\n",
    "    if number % 2 ==0:\n",
    "        print('{} is even number'.format(number))\n",
    "    else:\n",
    "        print('{} is odd number'.format(number))\n",
    "        \n",
    "number = int(input('enter any number: '))\n",
    "evenOrOdd(number)"
   ]
  },
  {
   "cell_type": "markdown",
   "id": "eaeba64b",
   "metadata": {},
   "source": [
    "### 3.Write a Python program to check Leap Year ?"
   ]
  },
  {
   "cell_type": "code",
   "execution_count": 7,
   "id": "0d6be849",
   "metadata": {},
   "outputs": [
    {
     "name": "stdout",
     "output_type": "stream",
     "text": [
      "2000 is a leap year\n"
     ]
    }
   ],
   "source": [
    "def leapYearOrNot(year):\n",
    "    if (year%4 == 0) and (year%100!=0):\n",
    "        print('{} is a leap year'.format(year))\n",
    "    elif (year%400 == 0) and (year%100 == 0):\n",
    "        print('{} is a leap year'.format(year))\n",
    "    else:\n",
    "        print('{} is  not a leap year'.format(year))\n",
    "        \n",
    "leapYearOrNot(2000)"
   ]
  },
  {
   "cell_type": "code",
   "execution_count": 8,
   "id": "9485a8f0",
   "metadata": {},
   "outputs": [
    {
     "name": "stdout",
     "output_type": "stream",
     "text": [
      "2004 is a leap year\n"
     ]
    }
   ],
   "source": [
    "leapYearOrNot(2004)"
   ]
  },
  {
   "cell_type": "code",
   "execution_count": 9,
   "id": "50d2d109",
   "metadata": {},
   "outputs": [
    {
     "name": "stdout",
     "output_type": "stream",
     "text": [
      "2005 is  not a leap year\n"
     ]
    }
   ],
   "source": [
    "leapYearOrNot(2005)"
   ]
  },
  {
   "cell_type": "markdown",
   "id": "71b50e29",
   "metadata": {},
   "source": [
    "### 4.Write a Python program to check Prime Number ?"
   ]
  },
  {
   "cell_type": "code",
   "execution_count": 12,
   "id": "8aae8d62",
   "metadata": {},
   "outputs": [
    {
     "name": "stdout",
     "output_type": "stream",
     "text": [
      "Enter any number: 6\n",
      "6 is not a prime number\n",
      "2 times 3 is 6\n"
     ]
    }
   ],
   "source": [
    "def primeOrNot(number):\n",
    "    if number >1:\n",
    "        for i in range(2,number):\n",
    "            if (number % i) == 0:\n",
    "                print('{} is not a prime number'.format(number))\n",
    "                print(i,\"times\",number//i,\"is\",number)\n",
    "                break\n",
    "        else:\n",
    "            print(number,\"is a prime number\")\n",
    "    else:\n",
    "        print(number,\"is not a prime number\")\n",
    "\n",
    "number = int(input('Enter any number: ')) \n",
    "primeOrNot(number)"
   ]
  },
  {
   "cell_type": "markdown",
   "id": "0df2a29a",
   "metadata": {},
   "source": [
    "### 5.Write a Python program to print all Prime Numbers in an interval of 1-10000 ?"
   ]
  },
  {
   "cell_type": "code",
   "execution_count": 21,
   "id": "557ec67c",
   "metadata": {},
   "outputs": [
    {
     "name": "stdout",
     "output_type": "stream",
     "text": [
      "enter the starting range: 1\n",
      "enter the ending range: 10\n",
      "Prime numbers between 1 and 10 are:\n"
     ]
    },
    {
     "data": {
      "text/plain": [
       "[2, 3, 5, 7]"
      ]
     },
     "execution_count": 21,
     "metadata": {},
     "output_type": "execute_result"
    }
   ],
   "source": [
    "# program to print all the primenumbers in a given intervel\n",
    "\n",
    "def generatePrimeNumbers(lower,upper):\n",
    "    for num in range(lower, upper + 1):\n",
    "    # all prime numbers are greater than 1\n",
    "        if num > 1:\n",
    "            for i in range(2, num):\n",
    "                if (num % i) == 0:\n",
    "                    break\n",
    "            else:\n",
    "                yield num\n",
    "\n",
    "\n",
    "lower = int(input('enter the starting range: '))\n",
    "upper  = int(input('enter the ending range: '))\n",
    "print(\"Prime numbers between\", lower, \"and\", upper, \"are:\")\n",
    "generatePrimeNumbers(lower,upper)\n",
    "\n",
    "#generating list of prime numbers in a given range\n",
    "[i for i in generatePrimeNumbers(lower,upper)]"
   ]
  },
  {
   "cell_type": "code",
   "execution_count": null,
   "id": "32e9c9a2",
   "metadata": {},
   "outputs": [],
   "source": []
  }
 ],
 "metadata": {
  "kernelspec": {
   "display_name": "Python 3",
   "language": "python",
   "name": "python3"
  },
  "language_info": {
   "codemirror_mode": {
    "name": "ipython",
    "version": 3
   },
   "file_extension": ".py",
   "mimetype": "text/x-python",
   "name": "python",
   "nbconvert_exporter": "python",
   "pygments_lexer": "ipython3",
   "version": "3.8.8"
  }
 },
 "nbformat": 4,
 "nbformat_minor": 5
}
