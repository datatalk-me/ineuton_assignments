{
 "cells": [
  {
   "cell_type": "markdown",
   "id": "d8e8e258",
   "metadata": {},
   "source": [
    "## Assignment 4 solutions"
   ]
  },
  {
   "cell_type": "markdown",
   "id": "ebac90dc",
   "metadata": {},
   "source": [
    "### 1.Write a Python Program to find the factorial of a number ?"
   ]
  },
  {
   "cell_type": "code",
   "execution_count": 7,
   "id": "6c8f673c",
   "metadata": {},
   "outputs": [
    {
     "name": "stdout",
     "output_type": "stream",
     "text": [
      "enter any number: 8\n",
      "factorial of 8 is 40320\n"
     ]
    }
   ],
   "source": [
    "def factorial(number):\n",
    "    if number < 1:\n",
    "        return 1\n",
    "    else:\n",
    "        return number * factorial(number-1)\n",
    "    \n",
    "number = int(input('enter any number: '))\n",
    "value = factorial(number)\n",
    "print('factorial of {} is {}'.format(number,value))       "
   ]
  },
  {
   "cell_type": "markdown",
   "id": "826d96c4",
   "metadata": {},
   "source": [
    "### 2.Write a Python Program to display the multiplication table ?"
   ]
  },
  {
   "cell_type": "code",
   "execution_count": 10,
   "id": "2b92d243",
   "metadata": {},
   "outputs": [
    {
     "name": "stdout",
     "output_type": "stream",
     "text": [
      "enter the table number you want: 2\n",
      "enter the number of multiples you want: 15\n",
      "2 * 1 = 2\n",
      "2 * 2 = 4\n",
      "2 * 3 = 6\n",
      "2 * 4 = 8\n",
      "2 * 5 = 10\n",
      "2 * 6 = 12\n",
      "2 * 7 = 14\n",
      "2 * 8 = 16\n",
      "2 * 9 = 18\n",
      "2 * 10 = 20\n",
      "2 * 11 = 22\n",
      "2 * 12 = 24\n",
      "2 * 13 = 26\n",
      "2 * 14 = 28\n",
      "2 * 15 = 30\n"
     ]
    }
   ],
   "source": [
    "def multipleTable(number,multiples):\n",
    "    for i in range(1,multiples + 1):\n",
    "        print(\"{} * {} = {}\".format(number,i,number*i))\n",
    "        \n",
    "number = int(input('enter the table number you want: '))\n",
    "multiples = int(input('enter the number of multiples you want: '))\n",
    "\n",
    "multipleTable(number,multiples)"
   ]
  },
  {
   "cell_type": "markdown",
   "id": "157331ad",
   "metadata": {},
   "source": [
    "### 3.Write a Python Program to print the fibonacci sequence ?"
   ]
  },
  {
   "cell_type": "code",
   "execution_count": 13,
   "id": "9a8a2f67",
   "metadata": {},
   "outputs": [
    {
     "name": "stdout",
     "output_type": "stream",
     "text": [
      "Enter the desired length: 5\n",
      "0 1 1 2 3 "
     ]
    },
    {
     "data": {
      "text/plain": [
       "5"
      ]
     },
     "execution_count": 13,
     "metadata": {},
     "output_type": "execute_result"
    }
   ],
   "source": [
    "def fiboncci(number):\n",
    "    a = 0\n",
    "    b = 1\n",
    "    sum = 0\n",
    "    count = 1\n",
    "    while(count <= number):\n",
    "        print(sum,end=' ')\n",
    "        count += 1\n",
    "        a = b\n",
    "        b = sum\n",
    "        sum = a + b\n",
    "    return sum\n",
    "\n",
    "number  = int(input('Enter the desired length: '))\n",
    "fiboncci(number)"
   ]
  },
  {
   "cell_type": "markdown",
   "id": "d36278fe",
   "metadata": {},
   "source": [
    "### 4.Write a Python Program to check Armstrong number ?"
   ]
  },
  {
   "cell_type": "code",
   "execution_count": 29,
   "id": "76eaec7c",
   "metadata": {},
   "outputs": [
    {
     "name": "stdout",
     "output_type": "stream",
     "text": [
      "enter the number: 371\n",
      "371 is an armstrong number\n"
     ]
    }
   ],
   "source": [
    "# abcd... = a**n + b**n + c**n + d**n + ...\n",
    "\n",
    "number = int(input('enter the number: '))\n",
    "sum = 0\n",
    "temp = number\n",
    "while temp > 0:\n",
    "    digit = temp % 10\n",
    "    sum += digit ** 3\n",
    "    temp //=10\n",
    "if number == sum:\n",
    "    print('{} is an armstrong number'.format(number))\n",
    "else:\n",
    "    print('{} is not an armstrong number'.format(number))\n",
    "\n",
    "\n"
   ]
  },
  {
   "cell_type": "markdown",
   "id": "e0410039",
   "metadata": {},
   "source": [
    "### 5.Write a Python Program to Find Armstrong number in an interval ? "
   ]
  },
  {
   "cell_type": "code",
   "execution_count": 27,
   "id": "b90e837a",
   "metadata": {},
   "outputs": [
    {
     "name": "stdout",
     "output_type": "stream",
     "text": [
      "Enter lower limit of interval: 1\n",
      "Enter upper limit of interval: 1000\n",
      "Armstrong numbers in given interval are:  1 153 370 371 407 "
     ]
    }
   ],
   "source": [
    "lower = int(input(\"Enter lower limit of interval: \"))\n",
    "upper = int(input(\"Enter upper limit of interval: \"))\n",
    "print(\"Armstrong numbers in given interval are: \", end = \" \")\n",
    "for number in range(lower,upper+1):\n",
    "    sum = 0\n",
    "    temp = number\n",
    "    while temp>0:\n",
    "        digit = temp%10\n",
    "        sum += digit**3\n",
    "        temp //= 10\n",
    "    if number==sum:\n",
    "        print(number, end=\" \")"
   ]
  },
  {
   "cell_type": "markdown",
   "id": "6b2c026a",
   "metadata": {},
   "source": [
    "### 6.Write a Python Program to sum of natural numbers ?"
   ]
  },
  {
   "cell_type": "code",
   "execution_count": 35,
   "id": "f385aa58",
   "metadata": {},
   "outputs": [
    {
     "name": "stdout",
     "output_type": "stream",
     "text": [
      "enter any number: 100\n",
      "print sum of natural numbers:  5050.0\n"
     ]
    }
   ],
   "source": [
    "def SumOfNaturalNumbers(number):\n",
    "    sumOfNumbers = number * ((number + 1)/2)\n",
    "    return sumOfNumbers\n",
    "  \n",
    "number = int(input('enter any number: '))\n",
    "\n",
    "\n",
    "print('sum of natural numbers: ',SumOfNaturalNumbers(number))"
   ]
  },
  {
   "cell_type": "code",
   "execution_count": null,
   "id": "f5321df3",
   "metadata": {},
   "outputs": [],
   "source": []
  }
 ],
 "metadata": {
  "kernelspec": {
   "display_name": "Python 3",
   "language": "python",
   "name": "python3"
  },
  "language_info": {
   "codemirror_mode": {
    "name": "ipython",
    "version": 3
   },
   "file_extension": ".py",
   "mimetype": "text/x-python",
   "name": "python",
   "nbconvert_exporter": "python",
   "pygments_lexer": "ipython3",
   "version": "3.8.8"
  }
 },
 "nbformat": 4,
 "nbformat_minor": 5
}
