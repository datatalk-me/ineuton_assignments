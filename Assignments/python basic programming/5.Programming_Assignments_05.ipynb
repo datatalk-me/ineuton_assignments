{
 "cells": [
  {
   "cell_type": "markdown",
   "id": "3841082c",
   "metadata": {},
   "source": [
    "### Assignment 5 Solutions"
   ]
  },
  {
   "cell_type": "markdown",
   "id": "60a6a976",
   "metadata": {},
   "source": [
    "### 1. Write a Python Program to find LCM ?"
   ]
  },
  {
   "cell_type": "code",
   "execution_count": 8,
   "id": "53854df6",
   "metadata": {},
   "outputs": [
    {
     "name": "stdout",
     "output_type": "stream",
     "text": [
      "enter first number: 3\n",
      "enter second number: 6\n",
      "LCM of 3 and 6 is 6\n"
     ]
    }
   ],
   "source": [
    "def compute_lcm(number_1,number_2):\n",
    "    if number_1>number_2:\n",
    "        max = number_1\n",
    "    else:\n",
    "        max = number_2\n",
    "    while True:\n",
    "        if max%number_1==0 and max%number_2==0:\n",
    "            print(\"LCM of {} and {} is {}\".format(number_1, number_2, max))\n",
    "            break\n",
    "        max = max+1\n",
    "number_1 = int(input('enter first number: '))\n",
    "number_2 = int(input('enter second number: '))\n",
    "\n",
    "compute_lcm(number_1,number_2)"
   ]
  },
  {
   "cell_type": "markdown",
   "id": "91de672a",
   "metadata": {},
   "source": [
    "### 2. Write a Python Program to find HCF ?"
   ]
  },
  {
   "cell_type": "code",
   "execution_count": 7,
   "id": "fae26f08",
   "metadata": {},
   "outputs": [
    {
     "name": "stdout",
     "output_type": "stream",
     "text": [
      "enter first number: 54\n",
      "enter second number: 24\n",
      "The H.C.F. is 6\n"
     ]
    }
   ],
   "source": [
    "def compute_hcf(number_1, number_2):\n",
    "\n",
    "    if number_1 > number_2:\n",
    "        smaller = number_2\n",
    "    else:\n",
    "        smaller = number_1\n",
    "    for i in range(1, smaller+1):\n",
    "        if((number_1 % i == 0) and (number_2 % i == 0)):\n",
    "            hcf = i \n",
    "    return hcf\n",
    "\n",
    "\n",
    "number_1 = int(input('enter first number: '))\n",
    "number_2 = int(input('enter second number: '))\n",
    "\n",
    "print(\"The H.C.F. is\", compute_hcf(number_1, number_2))"
   ]
  },
  {
   "cell_type": "markdown",
   "id": "b9a362d6",
   "metadata": {},
   "source": [
    "### 3. Write a Python Program to Convert Decimal to Binary, Octal and Hexadecimal ?"
   ]
  },
  {
   "cell_type": "code",
   "execution_count": 9,
   "id": "22b42c94",
   "metadata": {},
   "outputs": [
    {
     "name": "stdout",
     "output_type": "stream",
     "text": [
      "Enter Decimal Number: 12\n",
      "Decimal to Binary:  0b1100\n",
      "Decimal to Octal:  0o14\n",
      "Decimal to Hexadecimal:  0xc\n"
     ]
    }
   ],
   "source": [
    "number = int(input(\"Enter Decimal Number: \"))\n",
    "print(\"Decimal to Binary: \",bin(number))\n",
    "print(\"Decimal to Octal: \",oct(number))\n",
    "print(\"Decimal to Hexadecimal: \",hex(number))"
   ]
  },
  {
   "cell_type": "markdown",
   "id": "ffd44308",
   "metadata": {},
   "source": [
    "### 4. Write a Python Program to Find the ASCII value of a Character ?"
   ]
  },
  {
   "cell_type": "code",
   "execution_count": 15,
   "id": "4b6b10f1",
   "metadata": {},
   "outputs": [
    {
     "name": "stdout",
     "output_type": "stream",
     "text": [
      "enter any characters from A-Z or a-z or @,#,$,%: #\n"
     ]
    },
    {
     "data": {
      "text/plain": [
       "35"
      ]
     },
     "execution_count": 15,
     "metadata": {},
     "output_type": "execute_result"
    }
   ],
   "source": [
    "def ascii_value(character):\n",
    "    return ord(character)\n",
    "\n",
    "\n",
    "character = str(input('enter any characters from A-Z or a-z or @,#,$,%: '))\n",
    "ascii_value(character)"
   ]
  },
  {
   "cell_type": "markdown",
   "id": "555fb8fc",
   "metadata": {},
   "source": [
    "### 5. Write a Python Program to Make a Simple Calculator with 4 Basic Mathematical operations ?"
   ]
  },
  {
   "cell_type": "code",
   "execution_count": 16,
   "id": "e8995a2c",
   "metadata": {},
   "outputs": [
    {
     "name": "stdout",
     "output_type": "stream",
     "text": [
      "Select a Arithmetic Operation:         \n",
      "1.Addition(+)        \n",
      "2.Division(-)        \n",
      "2.Multiplication(*)        \n",
      "4.Division(/)        \n",
      "3.Stop(0)\n",
      "\n",
      "Enter a arithmetic operation -> +\n",
      "\n",
      "Enter 1st Number: 10\n",
      "Enter 2nd Number: 20\n",
      "10+20=30\n",
      "\n",
      "Enter a arithmetic operation -> 0\n",
      "Program Stopped successfully\n"
     ]
    }
   ],
   "source": [
    "import operator\n",
    "\n",
    "ops = { \"+\": operator.add, \"-\": operator.sub, \"*\":operator.mul, \"/\":operator.truediv } \n",
    "\n",
    "print('Select a Arithmetic Operation: \\\n",
    "        \\n1.Addition(+)\\\n",
    "        \\n2.Division(-)\\\n",
    "        \\n2.Multiplication(*)\\\n",
    "        \\n4.Division(/)\\\n",
    "        \\n3.Stop(0)\\n')\n",
    "   \n",
    "while True:\n",
    "    operator = input('Enter a arithmetic operation -> ')\n",
    "    if operator == '0':\n",
    "        print(\"Program Stopped successfully\")\n",
    "        break\n",
    "    elif operator not in ['+','-','*','/']:\n",
    "        print(\"Please enter a valid operator\")\n",
    "    else:\n",
    "        num_1 = int(input('\\nEnter 1st Number: '))\n",
    "        num_2 = int(input('Enter 2nd Number: '))\n",
    "        print(f'{num_1}{operator}{num_2}={ops[operator](num_1,num_2)}\\n')"
   ]
  },
  {
   "cell_type": "code",
   "execution_count": null,
   "id": "95314c94",
   "metadata": {},
   "outputs": [],
   "source": []
  }
 ],
 "metadata": {
  "kernelspec": {
   "display_name": "Python 3",
   "language": "python",
   "name": "python3"
  },
  "language_info": {
   "codemirror_mode": {
    "name": "ipython",
    "version": 3
   },
   "file_extension": ".py",
   "mimetype": "text/x-python",
   "name": "python",
   "nbconvert_exporter": "python",
   "pygments_lexer": "ipython3",
   "version": "3.8.8"
  }
 },
 "nbformat": 4,
 "nbformat_minor": 5
}
