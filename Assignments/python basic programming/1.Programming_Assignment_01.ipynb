{
 "cells": [
  {
   "cell_type": "markdown",
   "id": "dfbb4f7a",
   "metadata": {},
   "source": [
    "## Assignment Solutions"
   ]
  },
  {
   "cell_type": "markdown",
   "id": "df4c6973",
   "metadata": {},
   "source": [
    "### 1.Write a Python program to print 'Hello Python' ?"
   ]
  },
  {
   "cell_type": "code",
   "execution_count": 1,
   "id": "543fd904",
   "metadata": {},
   "outputs": [
    {
     "name": "stdout",
     "output_type": "stream",
     "text": [
      "Hello Python\n"
     ]
    }
   ],
   "source": [
    "print('Hello Python')"
   ]
  },
  {
   "cell_type": "markdown",
   "id": "d152179b",
   "metadata": {},
   "source": [
    "### 2.Write a Python program to do arithmetic operations addition and division ?"
   ]
  },
  {
   "cell_type": "code",
   "execution_count": 2,
   "id": "112c12e7",
   "metadata": {},
   "outputs": [
    {
     "name": "stdout",
     "output_type": "stream",
     "text": [
      "enter first number: 5\n",
      "enter second nuber: 10\n",
      "enter '+' to do addition (or) enter '/' for division +\n",
      "addition of 5 and 10 is 15\n"
     ]
    }
   ],
   "source": [
    "num1 = int(input('enter first number: '))\n",
    "num2 = int(input('enter second nuber: '))\n",
    "operator = input(\"enter '+' to do addition (or) enter '/' for division \")\n",
    "if operator == '+':\n",
    "    addition = num1 + num2\n",
    "    print('addition of {} and {} is {}'.format(num1,num2,addition))\n",
    "elif operator == '/':\n",
    "    division = num1 / num2\n",
    "    print('division of {} and {} is {}'.format(num1,num2,division))\n",
    "else:\n",
    "    print('please enter the correct operator')"
   ]
  },
  {
   "cell_type": "code",
   "execution_count": 3,
   "id": "ca49ef0e",
   "metadata": {},
   "outputs": [
    {
     "name": "stdout",
     "output_type": "stream",
     "text": [
      "enter first number: 15\n",
      "enter second nuber: 5\n",
      "enter '+' to do addition (or) enter '/' for division /\n",
      "division of 15 and 5 is 3.0\n"
     ]
    }
   ],
   "source": [
    "num1 = int(input('enter first number: '))\n",
    "num2 = int(input('enter second nuber: '))\n",
    "operator = input(\"enter '+' to do addition (or) enter '/' for division \")\n",
    "if operator == '+':\n",
    "    addition = num1 + num2\n",
    "    print('addition of {} and {} is {}'.format(num1,num2,addition))\n",
    "elif operator == '/':\n",
    "    division = num1 / num2\n",
    "    print('division of {} and {} is {}'.format(num1,num2,division))\n",
    "else:\n",
    "    print('please enter the correct operator')"
   ]
  },
  {
   "cell_type": "code",
   "execution_count": 5,
   "id": "e54cdf35",
   "metadata": {},
   "outputs": [
    {
     "name": "stdout",
     "output_type": "stream",
     "text": [
      "enter first number: 5\n",
      "enter second nuber: 16\n",
      "enter '+' to do addition (or) enter '/' for division *\n",
      "please enter the correct operator\n"
     ]
    }
   ],
   "source": [
    "num1 = int(input('enter first number: '))\n",
    "num2 = int(input('enter second nuber: '))\n",
    "operator = input(\"enter '+' to do addition (or) enter '/' for division \")\n",
    "if operator == '+':\n",
    "    addition = num1 + num2\n",
    "    print('addition of {} and {} is {}'.format(num1,num2,addition))\n",
    "elif operator == '/':\n",
    "    division = num1 / num2\n",
    "    print('division of {} and {} is {}'.format(num1,num2,division))\n",
    "else:\n",
    "    print('please enter the correct operator')"
   ]
  },
  {
   "cell_type": "markdown",
   "id": "13918b3d",
   "metadata": {},
   "source": [
    "### 3.Write a Python program to find the area of a triangle ?"
   ]
  },
  {
   "cell_type": "code",
   "execution_count": 6,
   "id": "c88ced24",
   "metadata": {},
   "outputs": [
    {
     "data": {
      "text/plain": [
       "15.0"
      ]
     },
     "execution_count": 6,
     "metadata": {},
     "output_type": "execute_result"
    }
   ],
   "source": [
    "# formula for area of trianle id 1/2 * base * height\n",
    "\n",
    "def areaOftriangle(base,height):\n",
    "    return  0.5 * base * height\n",
    "    \n",
    "areaOftriangle(5,6)"
   ]
  },
  {
   "cell_type": "markdown",
   "id": "f00a9377",
   "metadata": {},
   "source": [
    "### 4.Write a Python program to swap two variables ?"
   ]
  },
  {
   "cell_type": "code",
   "execution_count": 10,
   "id": "94b88cc2",
   "metadata": {},
   "outputs": [
    {
     "name": "stdout",
     "output_type": "stream",
     "text": [
      "enter first number: 5\n",
      "enter second nuber: 6\n",
      "Numbers Before swapping 5 and 6\n",
      "Numbers After swapping 6 and 5\n"
     ]
    }
   ],
   "source": [
    "num1 = int(input('enter first number: '))\n",
    "num2 = int(input('enter second nuber: '))\n",
    "\n",
    "def swapNumbers(a,b):\n",
    "    temp = a\n",
    "    a = b\n",
    "    b = temp\n",
    "    return a,b\n",
    "\n",
    "print('Numbers Before swapping {} and {}'.format(num1,num2))\n",
    "num1,num2 = swapNumbers(num1,num2)\n",
    "print('Numbers After swapping {} and {}'.format(num1,num2))"
   ]
  },
  {
   "cell_type": "markdown",
   "id": "61657496",
   "metadata": {},
   "source": [
    "### 5.Write a Python program to generate a random number ?"
   ]
  },
  {
   "cell_type": "code",
   "execution_count": 14,
   "id": "c605dfce",
   "metadata": {},
   "outputs": [
    {
     "name": "stdout",
     "output_type": "stream",
     "text": [
      "generating random number with defalut values: 83917\n",
      "generating random number with in a given range: 2\n"
     ]
    }
   ],
   "source": [
    "import random\n",
    "\n",
    "def genrandom(start=0,stop=100000):\n",
    "    return random.randint(start,stop)\n",
    "\n",
    "# generating random number with default range\n",
    "print('generating random number with defalut values:',genrandom())\n",
    "\n",
    "# generating random number with a specified parameters\n",
    "print('generating random number with in a given range:',genrandom(0,10))\n"
   ]
  },
  {
   "cell_type": "code",
   "execution_count": null,
   "id": "ebeed789",
   "metadata": {},
   "outputs": [],
   "source": []
  }
 ],
 "metadata": {
  "kernelspec": {
   "display_name": "Python 3",
   "language": "python",
   "name": "python3"
  },
  "language_info": {
   "codemirror_mode": {
    "name": "ipython",
    "version": 3
   },
   "file_extension": ".py",
   "mimetype": "text/x-python",
   "name": "python",
   "nbconvert_exporter": "python",
   "pygments_lexer": "ipython3",
   "version": "3.8.8"
  }
 },
 "nbformat": 4,
 "nbformat_minor": 5
}
