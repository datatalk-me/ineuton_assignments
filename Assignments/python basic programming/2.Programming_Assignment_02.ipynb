{
 "cells": [
  {
   "cell_type": "markdown",
   "id": "818913eb",
   "metadata": {},
   "source": [
    "## Assignment 2 Solutions"
   ]
  },
  {
   "cell_type": "markdown",
   "id": "780f6926",
   "metadata": {},
   "source": [
    "### 1.Write a Python program to convert Kilometers to Miles ?"
   ]
  },
  {
   "cell_type": "code",
   "execution_count": 5,
   "id": "a686918d",
   "metadata": {},
   "outputs": [
    {
     "name": "stdout",
     "output_type": "stream",
     "text": [
      "enter the number of Kilometers to convert into miles: 10\n",
      "10 kilometers is equal to 6.21371 Miles\n"
     ]
    }
   ],
   "source": [
    "def kmToMiles(km):\n",
    "    return km * 0.621371\n",
    "\n",
    "km = int(input('enter the number of Kilometers to convert into miles: '))\n",
    "miles = kmToMiles(km)\n",
    "print(\"{} kilometers is equal to {} Miles\".format(km,miles))"
   ]
  },
  {
   "cell_type": "markdown",
   "id": "696ec012",
   "metadata": {},
   "source": [
    "### 2.Write a Python program to convert Celsius to Farenheit ?"
   ]
  },
  {
   "cell_type": "code",
   "execution_count": 7,
   "id": "ae86ccb7",
   "metadata": {},
   "outputs": [
    {
     "name": "stdout",
     "output_type": "stream",
     "text": [
      "enter the temprature to convert celsius to farenheit: 10\n",
      "10 degree celsius is equal to 50.0 degree farenheit\n"
     ]
    }
   ],
   "source": [
    "def CelsiusToFarenheit(degrees):\n",
    "    return (degrees * 1.8) + 32\n",
    "\n",
    "degrees = int(input('enter the temprature to convert celsius to farenheit: '))\n",
    "farenheit = CelsiusToFarenheit(degrees)\n",
    "print(\"{} degree celsius is equal to {} degree farenheit\".format(degrees,farenheit))"
   ]
  },
  {
   "cell_type": "markdown",
   "id": "902ca383",
   "metadata": {},
   "source": [
    "### 3.Write a Python program to display calender ?"
   ]
  },
  {
   "cell_type": "code",
   "execution_count": 16,
   "id": "ada54d60",
   "metadata": {},
   "outputs": [
    {
     "name": "stdout",
     "output_type": "stream",
     "text": [
      "Enter the year of calender you want - ex:2004: 2005\n",
      "\n",
      "\n",
      "                                  2005\n",
      "\n",
      "      January                   February                   March\n",
      "Mo Tu We Th Fr Sa Su      Mo Tu We Th Fr Sa Su      Mo Tu We Th Fr Sa Su\n",
      "                1  2          1  2  3  4  5  6          1  2  3  4  5  6\n",
      " 3  4  5  6  7  8  9       7  8  9 10 11 12 13       7  8  9 10 11 12 13\n",
      "10 11 12 13 14 15 16      14 15 16 17 18 19 20      14 15 16 17 18 19 20\n",
      "17 18 19 20 21 22 23      21 22 23 24 25 26 27      21 22 23 24 25 26 27\n",
      "24 25 26 27 28 29 30      28                        28 29 30 31\n",
      "31\n",
      "\n",
      "       April                      May                       June\n",
      "Mo Tu We Th Fr Sa Su      Mo Tu We Th Fr Sa Su      Mo Tu We Th Fr Sa Su\n",
      "             1  2  3                         1             1  2  3  4  5\n",
      " 4  5  6  7  8  9 10       2  3  4  5  6  7  8       6  7  8  9 10 11 12\n",
      "11 12 13 14 15 16 17       9 10 11 12 13 14 15      13 14 15 16 17 18 19\n",
      "18 19 20 21 22 23 24      16 17 18 19 20 21 22      20 21 22 23 24 25 26\n",
      "25 26 27 28 29 30         23 24 25 26 27 28 29      27 28 29 30\n",
      "                          30 31\n",
      "\n",
      "        July                     August                  September\n",
      "Mo Tu We Th Fr Sa Su      Mo Tu We Th Fr Sa Su      Mo Tu We Th Fr Sa Su\n",
      "             1  2  3       1  2  3  4  5  6  7                1  2  3  4\n",
      " 4  5  6  7  8  9 10       8  9 10 11 12 13 14       5  6  7  8  9 10 11\n",
      "11 12 13 14 15 16 17      15 16 17 18 19 20 21      12 13 14 15 16 17 18\n",
      "18 19 20 21 22 23 24      22 23 24 25 26 27 28      19 20 21 22 23 24 25\n",
      "25 26 27 28 29 30 31      29 30 31                  26 27 28 29 30\n",
      "\n",
      "      October                   November                  December\n",
      "Mo Tu We Th Fr Sa Su      Mo Tu We Th Fr Sa Su      Mo Tu We Th Fr Sa Su\n",
      "                1  2          1  2  3  4  5  6                1  2  3  4\n",
      " 3  4  5  6  7  8  9       7  8  9 10 11 12 13       5  6  7  8  9 10 11\n",
      "10 11 12 13 14 15 16      14 15 16 17 18 19 20      12 13 14 15 16 17 18\n",
      "17 18 19 20 21 22 23      21 22 23 24 25 26 27      19 20 21 22 23 24 25\n",
      "24 25 26 27 28 29 30      28 29 30                  26 27 28 29 30 31\n",
      "31\n",
      "\n"
     ]
    }
   ],
   "source": [
    "# comple year calender\n",
    "\n",
    "import calendar\n",
    "\n",
    "def calenderYear(year):\n",
    "    return calendar.calendar(year)\n",
    "\n",
    "year = int(input('Enter the year of calender you want - ex:2004: '))\n",
    "print('\\n')\n",
    "print(calenderYear(year))"
   ]
  },
  {
   "cell_type": "code",
   "execution_count": 22,
   "id": "f76c703e",
   "metadata": {},
   "outputs": [
    {
     "name": "stdout",
     "output_type": "stream",
     "text": [
      "Enter the month you want - ex:8: 8\n",
      "Enter the year of calender you want - ex:2004: 2005\n",
      "\n",
      "\n",
      "    August 2005\n",
      "Mo Tu We Th Fr Sa Su\n",
      " 1  2  3  4  5  6  7\n",
      " 8  9 10 11 12 13 14\n",
      "15 16 17 18 19 20 21\n",
      "22 23 24 25 26 27 28\n",
      "29 30 31\n",
      "\n"
     ]
    }
   ],
   "source": [
    "# specific month of a year\n",
    "def monthOfYear(month,year):\n",
    "    return calendar.month(year,month)\n",
    "\n",
    "month = int(input('Enter the month you want - ex:8: '))\n",
    "year = int(input('Enter the year of calender you want - ex:2004: '))\n",
    "print('\\n')\n",
    "print(monthOfYear(month,year))"
   ]
  },
  {
   "cell_type": "markdown",
   "id": "d26673d7",
   "metadata": {},
   "source": [
    "### 4.Write a Python program to solve quadartic equation ?"
   ]
  },
  {
   "cell_type": "code",
   "execution_count": 24,
   "id": "32290fb7",
   "metadata": {},
   "outputs": [
    {
     "name": "stdout",
     "output_type": "stream",
     "text": [
      "enter number a : 1\n",
      "enter number b : 5\n",
      "enter number c : 6\n",
      "Roots are Real and different (-3+0j),(-2+0j)\n"
     ]
    }
   ],
   "source": [
    "import cmath\n",
    "\n",
    "def QuadraticEquation(a,b,c):\n",
    "    '''ax2 + bx + c = 0, where\n",
    "       a, b and c are real numbers and\n",
    "       a ≠ 0'''\n",
    "    \n",
    "    #calculate discriminant\n",
    "    d = (b**2) - 4*a*c\n",
    "    \n",
    "    if d == 0:\n",
    "        sol1 = -b/2 * a\n",
    "        sol2 = -b/2 * a\n",
    "    elif d > 0:\n",
    "        sol1 = (-b-cmath.sqrt(d))/(2*a)\n",
    "        sol2 = (-b+cmath.sqrt(d))/(2*a)\n",
    "        print('Roots are Real and different {},{}'.format(sol1,sol2))\n",
    "    else:\n",
    "        sol1 = (-b-cmath.sqrt(d))/(2*a)\n",
    "        sol2 = (-b+cmath.sqrt(d))/(2*a)\n",
    "        print('Roots are Real and Immaginary {},{}'.format(sol1,sol2))\n",
    "        \n",
    "\n",
    "a = int(input('enter number a : '))\n",
    "b = int(input('enter number b : '))\n",
    "c = int(input('enter number c : '))\n",
    "\n",
    "QuadraticEquation(a,b,c)"
   ]
  },
  {
   "cell_type": "markdown",
   "id": "e6fa07c7",
   "metadata": {},
   "source": [
    "### 5.Write a Python program to swap two variables without temp variable ?"
   ]
  },
  {
   "cell_type": "code",
   "execution_count": 28,
   "id": "23c099dd",
   "metadata": {},
   "outputs": [
    {
     "name": "stdout",
     "output_type": "stream",
     "text": [
      "enter first number: 10\n",
      "enter second number: 20\n",
      "numbers before swaping a=10 and b=20\n",
      "numbers after swaping a=20 and b=10\n"
     ]
    }
   ],
   "source": [
    "a = int(input('enter first number: '))\n",
    "b = int(input('enter second number: '))\n",
    "\n",
    "print('numbers before swaping a={} and b={}'.format(a,b))\n",
    "a,b = b,a\n",
    "print('numbers after swaping a={} and b={}'.format(a,b))"
   ]
  },
  {
   "cell_type": "code",
   "execution_count": null,
   "id": "5497f279",
   "metadata": {},
   "outputs": [],
   "source": []
  },
  {
   "cell_type": "code",
   "execution_count": null,
   "id": "da13a75b",
   "metadata": {},
   "outputs": [],
   "source": []
  }
 ],
 "metadata": {
  "kernelspec": {
   "display_name": "Python 3",
   "language": "python",
   "name": "python3"
  },
  "language_info": {
   "codemirror_mode": {
    "name": "ipython",
    "version": 3
   },
   "file_extension": ".py",
   "mimetype": "text/x-python",
   "name": "python",
   "nbconvert_exporter": "python",
   "pygments_lexer": "ipython3",
   "version": "3.8.8"
  }
 },
 "nbformat": 4,
 "nbformat_minor": 5
}
